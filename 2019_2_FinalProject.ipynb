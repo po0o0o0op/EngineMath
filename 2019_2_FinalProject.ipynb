{
  "nbformat": 4,
  "nbformat_minor": 0,
  "metadata": {
    "colab": {
      "name": "2019_2_FinalProject.ipynb",
      "provenance": [],
      "collapsed_sections": [],
      "include_colab_link": true
    },
    "kernelspec": {
      "name": "python3",
      "display_name": "Python 3"
    }
  },
  "cells": [
    {
      "cell_type": "markdown",
      "metadata": {
        "id": "view-in-github",
        "colab_type": "text"
      },
      "source": [
        "<a href=\"https://colab.research.google.com/github/po0o0o0op/EngineMath/blob/master/2019_2_FinalProject.ipynb\" target=\"_parent\"><img src=\"https://colab.research.google.com/assets/colab-badge.svg\" alt=\"Open In Colab\"/></a>"
      ]
    },
    {
      "cell_type": "markdown",
      "metadata": {
        "id": "x5GHxXsoNJk1",
        "colab_type": "text"
      },
      "source": [
        "# Laplace's Equation in the Sphere"
      ]
    },
    {
      "cell_type": "markdown",
      "metadata": {
        "id": "M6xc3zKlNVgy",
        "colab_type": "text"
      },
      "source": [
        "We consider the boundary value problem\n",
        ">$\\begin{align*}\n",
        " u_{rr} +\\frac{2}{r} u_r &+\\frac{1}{r^2}u_{\\phi\\phi} +\\frac{\\cot\\phi}{r^2} u_{\\phi} +\\frac{1}{r^2\\sin^2\\phi}u_{\\theta\\theta} = 0, \\;\\; r < R \\\\ \n",
        " u(R,\\phi,\\theta) &= g(\\phi,\\theta)\\\\ \n",
        "\\end{align*}$\n",
        "\n",
        "in a sphere of radius $R$. (a) Solve this problem by separation of variables, (b) derive $K(r,\\phi,\\theta; R,\\varphi,\\vartheta)$ in the equivalent integral formula:\n",
        "\n",
        ">$\\displaystyle u(r,\\phi,\\theta) = \\int_0^{2\\pi} \\int_0^\\pi K(r,\\phi,\\theta; R,\\varphi,\\vartheta)\\, g(\\varphi,\\vartheta) \\sin\\varphi \\,d\\varphi \\, d\\vartheta$"
      ]
    },
    {
      "cell_type": "markdown",
      "metadata": {
        "id": "2DxGjG-SNHCQ",
        "colab_type": "text"
      },
      "source": [
        "## (a) Solve this problem by separation of variables"
      ]
    },
    {
      "cell_type": "markdown",
      "metadata": {
        "id": "BecIyLJFbmib",
        "colab_type": "text"
      },
      "source": [
        "**1.Laplace's Equation in the Sphere**\n",
        "\n",
        "(a) Solve this problem by separation of variables\n",
        "\n",
        "구형좌표계에서 $\\begin{align*} h_{r}=1, h_{\\theta}=r\\sin\\phi, h_{\\phi}=r \\end{align*}$, 변수분리를 한다 $\\begin{align*} f_{1}(r)=r^{2},f_{2}(\\theta)=1, f_{3})\\phi)=\\sin\\phi \\end{align*}$, giving a Stackel determinant of $\\begin{align*} S=1 \\end{align*}$.\n",
        "\n",
        "라플라시안은\n",
        ">$\\begin{align*} \\nabla^{2}=u_{rr} +\\frac{2}{r} u_r &+\\frac{1}{r^2}u_{\\phi\\phi} +\\frac{\\cot\\phi}{r^2} u_{\\phi} +\\frac{1}{r^2\\sin^2\\phi}u_{\\theta\\theta} = 0 \\end{align*}$ 이다.\n",
        "\n",
        "구형좌표계에서 라플라시안을 풀기위해 변수설정 $\\begin{align*} F({r,\\theta,\\phi})= R({r})\\Theta({\\theta}){\\Phi}({\\phi}) \\end{align*}$\n",
        ">Then the Helmholtz differential equation becomes $\\begin{align*} \\frac{d^2R} {dr^2}{\\Phi\\Theta} + \\frac{2}{r}\\frac{dR}{dr}{\\Phi\\Theta} + \\frac{1}{r^2\\sin^2\\theta}\\frac{d^2\\Theta}{d\\theta^2}{\\Phi R}+ \\frac{cos\\phi}{r^2 \\sin\\phi}\\frac{d\\Phi}{d\\phi}{\\Theta R} +\\frac{1}{r^2}\\frac{d^2\\Phi}{d\\phi^2}{\\Theta R}=0. \\end{align*}$\n",
        "\n",
        "\n",
        "\n",
        "R을 분리한다. R$\\begin{align*}\\Theta\\Phi \\end{align*}$,\n",
        "$\\begin{align*}\\frac{r^2 \\sin^2\\phi}{\\Phi R \\Theta}{\\Phi\\Theta}\\frac{d^2R}{dr^2}+\\frac{2}{r}\\frac{r^2 \\sin^2\\phi}{\\Phi R \\Theta}{\\Phi\\Theta}\\frac{dR}{dr}+\\frac{1}{r^2\\sin^2\\phi}\\frac{r^2\\sin^2\\phi}{\\Phi R \\Theta}{\\Phi R}\\frac{d^2\\Theta}{d\\theta^2}+\\frac{\\cos\\phi}{r^2\\sin\\phi}\\frac{r^2\\sin^2\\phi}{\\Phi\\Theta R}\\frac{d\\Phi}{d\\phi}{\\Theta R}+\\frac{1}{r^2}\\frac{r^2\\sin^2\\phi}{\\Phi R \\Theta}\\frac{d^2\\Phi}{d\\phi^2}{\\Theta R}=0 \\end{align*}$\n",
        "\n",
        "\n",
        "\n",
        "$\\begin{align*} \\frac{d^2\\Theta}{d\\theta^2}\\frac{1}{\\Theta}=-{m^2}\n",
        ",\\\\\\Theta(\\theta)=A_me^{im\\theta},\\\\\\Theta(\\theta)=S_m\\sin(m\\theta)+C_m\\cos(m\\theta).\\\\\\frac{r^2}{R}\\frac{d^2R}{dr^2}+\\frac{2r}{R}\\frac{dR}{dr}+\\frac{1}{\\sin^2\\phi}(\\frac{\\cos\\phi\\sin\\phi}{\\Phi}\\frac{d\\Phi}{d\\phi}+\\frac{\\sin^2\\phi}{\\Phi}\\frac{d^2\\Phi}{d\\phi^2}-m^2)=0 \\\\\\frac{r^2}{R}\\frac{d^2R}{dr^2}+\\frac{2r}{R}\\frac{dR}{dr}=l(l+1). \\end{align*}$ \n",
        ">$\\begin{align*} r^2\\frac{d^2R}{dr^2}+2r\\frac{dR}{dr}=l(l+1)R.\\\\R=\\sum_{n=0}^{\\infty} {a_nr^{n+c}}. \\end{align*}$\n",
        "\n",
        "$\\begin{align*} r^2 \\sum_{n=0}^\\infty (n+c)(n+c-1)a_nr^{n+c-2}+2r\\sum_{n=0}^\\infty ({n+c}){a_nr^{n+c-1}}-l(l+1)\\sum_{n=0}^\\infty {a_n}r^{n+c}=0 \\\\\\sum_{n=0}^\\infty ({n+c})(n+c-1)a_nr^{n+c}+2\\sum_{n=0}^\\infty (n+c)a_nr^{n+c-1}-l(l+1)\\sum_{n=0}^\\infty a_nr^{n+c}=0. \\\\\\sum_{n=0}^\\infty [(n+c)(n+c+1)-l(l+1)]a_nr^{n+c}=0. \\end{align*}$\n",
        "\n",
        "\n",
        "$\\begin{align*} l(l+1)-\\frac{m^2}{\\sin^2\\phi}+\\frac{\\cos\\phi}{\\sin^2\\phi}+\\frac{\\cos\\phi}{\\sin\\phi}\\frac{1}{\\Phi}\\frac{d\\Phi}{d\\phi}+\\frac{1}{d^2\\Phi}{d\\phi^2}=0 \\\\\\Phi\\prime\\prime+\\frac{\\cos\\phi}{\\sin\\phi}{\\Phi\\prime}+[l(l+1)-\\frac{m^2}{sin^2\\phi}]\\Phi=0 \\\\\\sum_{l=0}^\\infty\\sum_{m=-l}^l ({A_lr^l+B_lr^{-l-1}})P_l^m(\\cos\\phi)e^{-im\\theta}=\\sum_{l=0}^\\infty\\sum_{m=-l}^l({A_lr^l+B_lr^{-l-1}})Y_l^m(\\cos\\phi),\\\\Y_l^m(\\theta,\\phi)=P_l^m(\\cos\\phi)e^{-im\\theta} \\\\\\sum_{l=0}^\\infty\\sum_{m=0}^l ({A_lr^l+B_lr^{-l-1}})P_l^m(\\cos\\phi)[S_m\\sin(m\\theta)+C_m\\cos(m\\theta)] \\\\\\sum_{l=0}^\\infty\\sum_{m=0}^l ({A_lr^l+B_lr^{-l-1}})P_l^m(\\cos\\phi)[S_l^m\\sin(m\\theta)+C_l^m\\cos(m\\theta)]=\\sum_{l=0}^\\infty\\sum_{m=-l}^l ({A_lr^l+B_lr^{-l-1}})(S_l^m Y_l^{m(0)}(\\theta,\\phi)+C_l^mY_l^{m(e)}(\\theta,\\phi)) \n",
        "\\\\Y_l^{m(0)}(\\Theta,\\phi)=P_l^m(\\cos\\phi)\\sin(m\\theta) \\\\Y_l^{m(e)}(\\theta,\\phi)=P_l^m(\\cos\\phi)\\cos(m\\theta) \n",
        "\\\\F(r,\\phi)=\\sum_{l=0}^\\infty (A_lr^l+B_lr^{-r-l}P_l(\\cos\\phi). \\end{align*}$"
      ]
    },
    {
      "cell_type": "markdown",
      "metadata": {
        "id": "-_vYBXQKboUu",
        "colab_type": "text"
      },
      "source": [
        "## (b) derive  K(r,ϕ,θ;R,φ,ϑ)  in the equivalent integral formula:"
      ]
    },
    {
      "cell_type": "markdown",
      "metadata": {
        "id": "rz4Hs5qYb5W4",
        "colab_type": "text"
      },
      "source": [
        "P, P', Q 점\n",
        "\n",
        ">$\\begin{align*}\n",
        " \\; &P(r,\\phi,\\theta), P'(\\frac{1}{r},\\phi,\\theta), Q(R,\\vartheta,\\varphi) \\;\\;\\; \\\\\n",
        " \\end{align*}$\n",
        "\n",
        "PQ=L, PQ'=L'이라 할때\n",
        ">$\\begin{align*}\n",
        " \\; &L^2=r^2+R^2 -2rR\\cos(\\gamma) \\;\\;\\; \\\\\n",
        " \\end{align*}$"
      ]
    },
    {
      "cell_type": "markdown",
      "metadata": {
        "id": "nMmsxAe3b7bQ",
        "colab_type": "text"
      },
      "source": [
        ">$\\begin{align*}\n",
        " \\; &L'^2=(\\frac{1}{r^2})^2+R^2 -2(\\frac{1}{r^2})R\\cos(\\gamma) \\;\\;\\; \\\\\n",
        " \\end{align*}$\n",
        " \n",
        " >$\\begin{align*}\n",
        " \\; &\\cos(\\gamma)=\\cos(\\theta)\\cos(\\vartheta)+\\sin(\\theta)\\sin(\\vartheta)\\cos(\\phi-\\varphi) \\;\\;\\; \\\\\n",
        " \\end{align*}$\n",
        " \n",
        "  >$\\begin{align*}\n",
        " \\; &\\frac{1}{r^2}(r^2u_r)_r=4\\pi\\delta(r) \\;\\;\\; \\\\\n",
        " \\end{align*}$\n",
        " \n",
        "   >$\\begin{align*}\n",
        " \\; &\\int\\frac{1}{r^2}(r^2u_r)_r=\\int4\\pi\\delta(r)dr \\;\\;\\; \\\\\n",
        " \\end{align*}$\n",
        " \n",
        " Dirac delta function이므로\n",
        " \n",
        "   >$\\begin{align*}\n",
        " \\; &\\frac{1}{r^2}(r^2u_r)_r=4\\pi \\;\\;\\; \\\\\n",
        " \\end{align*}$\n",
        " \n",
        "   >$\\begin{align*}\n",
        " \\; &v=\\frac{1}{r^2}, dv=-\\frac{2}{r^3}dr \\;\\;\\; \\\\\n",
        " \\end{align*}$\n",
        " \n",
        "   >$\\begin{align*}\n",
        " \\; &du=\\frac{d}{dr}[r^2\\frac{dG}{dr}]dr, v=r^2\\frac{dG}{dr} \\;\\;\\; \\\\\n",
        " \\end{align*}$\n",
        " \n",
        "   >$\\begin{align*}\n",
        " \\; &(\\frac{1}{r^2})(r^2\\frac{dG}{dr})-\\int(r^2\\frac{dG}{dr})(-\\frac{2}{r^3}dr) = 4\\pi \\;\\;\\; \\\\\n",
        " \\end{align*}$\n",
        " \n",
        "   >$\\begin{align*}\n",
        " \\; &\\frac{dG}{dr}+2\\int\\frac{1}{r}\\frac{dG}{dr}dr = 4\\pi \\;\\;\\; \\\\\n",
        " \\end{align*}$\n",
        " \n",
        "   >$\\begin{align*}\n",
        " \\; &v=\\frac{1}{r}, dv=-\\frac{1}{r^2}dr \\;\\;\\; \\\\\n",
        " \\end{align*}$\n",
        " \n",
        "   >$\\begin{align*}\n",
        " \\; &du=\\frac{dG}{dr}dr, u=G \\;\\;\\; \\\\\n",
        " \\end{align*}$\n",
        " \n",
        "   >$\\begin{align*}\n",
        " \\; &\\frac{dG}{dr}+2[(\\frac{1}{r})(G)-\\int(G(-\\frac{1}{r^2}dr)] = 4\\pi \\;\\;\\; \\\\\n",
        " \\end{align*}$\n",
        " \n",
        "   >$\\begin{align*}\n",
        " \\; &\\frac{dG}{dr}+2[\\frac{G}{r}+\\int\\frac{G}{r^2}dr] = 4\\pi \\;\\;\\; \\\\\n",
        " \\end{align*}$\n",
        " \n",
        "   >$\\begin{align*}\n",
        " \\; &\\frac{dG}{dr}+\\frac{2G}{r}+2\\int\\frac{G}{r^2}dr = 4\\pi \\;\\;\\; \\\\\n",
        " \\end{align*}$ \n",
        " \n",
        "   >$\\begin{align*}\n",
        " \\; &\\frac{d^2G}{dr^2}+(\\frac{2}{r}\\frac{dG}{dr}-\\frac{2G}{r^2})+\\frac{2G}{r} = 0 \\;\\;\\; \\\\\n",
        " \\end{align*}$ \n",
        "\n",
        "   >$\\begin{align*}\n",
        " \\; &\\frac{d^2G}{dr^2}+\\frac{2}{r}\\frac{dG}{dr} = 0 \\;\\;\\; \\\\\n",
        " \\end{align*}$ \n",
        " \n",
        "  >$\\begin{align*}\n",
        " \\; &G(Q,P)=\\frac{1}{L}-\\frac{1}{rL'} \\;\\;\\; \\\\\n",
        " \\end{align*}$"
      ]
    },
    {
      "cell_type": "markdown",
      "metadata": {
        "id": "-DHeZ-ZJcPTC",
        "colab_type": "text"
      },
      "source": [
        " $\\displaystyle u(r,\\phi,\\theta) = \\int_0^{2\\pi} \\int_0^\\pi K(r,\\phi,\\theta; R,\\varphi,\\vartheta)\\, g(\\varphi,\\vartheta) \\sin\\varphi \\,d\\varphi \\, d\\vartheta$"
      ]
    },
    {
      "cell_type": "markdown",
      "metadata": {
        "id": "3udmsd10cXpp",
        "colab_type": "text"
      },
      "source": [
        "  >$\\begin{align*}\n",
        " \\; &K(r,\\phi,\\theta;R,\\varphi,\\vartheta)=\\frac{1}{L}-\\frac{1}{rL'} \\;\\;\\; \\\\\n",
        " \\end{align*}$"
      ]
    },
    {
      "cell_type": "markdown",
      "metadata": {
        "id": "UdOE90K_chQE",
        "colab_type": "text"
      },
      "source": [
        ">$\\begin{align*}\n",
        " \\; &L^2=r^2+R^2 -2rR\\cos(\\gamma) \\;\\;\\; \\\\\n",
        " \\end{align*}$\n",
        " >$\\begin{align*}\n",
        " \\; &L'^2=(\\frac{1}{r^2})^2+R^2 -2(\\frac{1}{r^2})R\\cos(\\gamma) \\;\\;\\; \\\\\n",
        " \\end{align*}$\n",
        "  >$\\begin{align*}\n",
        " \\; &\\cos(\\gamma)=\\cos(\\theta)\\cos(\\vartheta)+\\sin(\\theta)\\sin(\\vartheta)\\cos(\\phi-\\varphi) \\;\\;\\; \\\\\n",
        " \\end{align*}$ 이므로"
      ]
    },
    {
      "cell_type": "markdown",
      "metadata": {
        "id": "Bo1qrw82cs0Z",
        "colab_type": "text"
      },
      "source": [
        "따라서 $\\displaystyle u(r,\\phi,\\theta) = \\int_0^{2\\pi} \\int_0^\\pi (\\frac{1}{L}-\\frac{1}{rL'})\\, g(\\varphi,\\vartheta) \\sin\\varphi \\,d\\varphi \\, d\\vartheta$\n",
        "\n",
        ">단,$\\begin{align*}\n",
        " \\; &L^2=r^2+R^2 -2rR\\cos(\\gamma) \\;\\;\\; \\\\\n",
        " \\end{align*}$\n",
        " >$\\begin{align*}\n",
        " \\; &L'^2=(\\frac{1}{r^2})^2+R^2 -2(\\frac{1}{r^2})R\\cos(\\gamma) \\;\\;\\; \\\\\n",
        " \\end{align*}$\n",
        "  >$\\begin{align*}\n",
        " \\; &\\cos(\\gamma)=\\cos(\\theta)\\cos(\\vartheta)+\\sin(\\theta)\\sin(\\vartheta)\\cos(\\phi-\\varphi) \\;\\;\\; \\\\\n",
        " \\end{align*}$"
      ]
    },
    {
      "cell_type": "markdown",
      "metadata": {
        "id": "SRqftDHPboQi",
        "colab_type": "text"
      },
      "source": [
        "#Poisson's Equation for the Sphere"
      ]
    },
    {
      "cell_type": "markdown",
      "metadata": {
        "id": "d2VCbWpiboOj",
        "colab_type": "text"
      },
      "source": [
        "We consider the problem\n",
        "\n",
        ">$\\begin{align*}\n",
        " u_{rr} +\\frac{2}{r} u_r &+\\frac{1}{r^2}u_{\\phi\\phi} +\\frac{\\cot\\phi}{r^2} u_{\\phi} +\\frac{1}{r^2\\sin^2\\phi}u_{\\theta\\theta} = -F(r,\\phi,\\theta), \\;\\; r < R \\\\ \n",
        " u(R,\\phi,\\theta) &= 0\\\\ \n",
        "\\end{align*}$\n",
        "\n",
        "(a) solve by taking the finite Fourier Transforms, (b) derive $G(r,\\phi,\\theta; \\rho,\\varphi,\\vartheta)$ in the equivalent integral formula:\n",
        "\n",
        ">$\\displaystyle u(r,\\phi,\\theta) = \\int_0^{2\\pi} \\int_0^\\pi \\int_0^R G(r,\\phi,\\theta; \\rho,\\varphi,\\vartheta)\\, F(\\rho, \\varphi,\\vartheta) \\,\\rho^2 \\sin\\varphi \\,d\\rho \\,d\\varphi \\, d\\vartheta$"
      ]
    },
    {
      "cell_type": "markdown",
      "metadata": {
        "id": "5s6LeWC1boMu",
        "colab_type": "text"
      },
      "source": [
        "##a) solve by taking the finite Fourier Transforms"
      ]
    },
    {
      "cell_type": "markdown",
      "metadata": {
        "id": "5IqOh-occ2dZ",
        "colab_type": "text"
      },
      "source": [
        "포아송 방정식\n",
        ">$\\displaystyle \\nabla^2 \\phi = \\frac{\\rho}{\\epsilon_0} $"
      ]
    },
    {
      "cell_type": "markdown",
      "metadata": {
        "id": "M1d3OknXdMBR",
        "colab_type": "text"
      },
      "source": [
        "구형 좌표\n",
        ">$\\displaystyle G(r,r^\\prime) = -\\frac{1}{4\\pi(r^2-2rr^\\prime cos\\gamma-r^{\\prime 2} )^{\\frac{1}{2}}} $"
      ]
    },
    {
      "cell_type": "markdown",
      "metadata": {
        "id": "GsKrb9xxdP2L",
        "colab_type": "text"
      },
      "source": [
        ">$\\displaystyle cos\\gamma=cos\\theta cos\\theta^\\prime + sin\\theta sin\\theta^prime cos(\\varphi-\\varphi^\\prime) $"
      ]
    },
    {
      "cell_type": "markdown",
      "metadata": {
        "id": "geAzCwe0dUJF",
        "colab_type": "text"
      },
      "source": [
        "r 과 사이 각도 r'에 대해\n",
        ">$\\displaystyle G(r,r^\\prime)= -\\frac{1}{4\\pi r^\\prime} \\sum_{l=0}^\\infty (\\frac{r^\\prime}{r})^l P_l(cos\\gamma) $"
      ]
    },
    {
      "cell_type": "markdown",
      "metadata": {
        "id": "5XHrnW3MdZN-",
        "colab_type": "text"
      },
      "source": [
        "r'<r, 그리고\n",
        ">$\\displaystyle G(r,r^\\prime)= -\\frac{1}{4\\pi r^\\prime} \\sum_{l=0}^\\infty (\\frac{r}{r^\\prime})^l P_l(cos\\gamma) $"
      ]
    },
    {
      "cell_type": "markdown",
      "metadata": {
        "id": "E-8YbgBrdfXK",
        "colab_type": "text"
      },
      "source": [
        "에 대한 r'>r. 따라서, 구형 고조파 가산 정리를 이용하면\n",
        ">$\\displaystyle G(r,r^\\prime)=\\sum_{l=0}^\\infty \\sum_{m=-l}^{m=+l} \\frac{1}{2l+1}  (\\frac{r_<^l}{r_> ^{l+1}}) Y_{l,m}(\\theta^\\prime, \\varphi^\\prime)Y_{l,m}(\\theta,\\varphi) $ "
      ]
    },
    {
      "cell_type": "markdown",
      "metadata": {
        "id": "f8Bdvc9kdk4y",
        "colab_type": "text"
      },
      "source": [
        "포아송 방정식에 대한 일반적인 해법\n",
        ">$\\displaystyle {\\phi}(r) = -\\frac{1}{\\epsilon_0} \\int G(r, r^\\prime)\\, \\rho(r^\\prime) \\,d\\ V^\\prime $"
      ]
    },
    {
      "cell_type": "markdown",
      "metadata": {
        "id": "ghHnQ74Odpzp",
        "colab_type": "text"
      },
      "source": [
        ">$\\displaystyle {\\phi}(r) = \\frac{1}{\\epsilon_0} \\sum_{l=0}^\\infty \\sum_{m=-l}^{m=l} \\frac{1}{2l+1} [r^l P_{l,m}(r) + \\frac{q_{l,m}(r)}{r^{l+1}}] Y_{l,m}(\\theta. \\varphi) $"
      ]
    },
    {
      "cell_type": "markdown",
      "metadata": {
        "id": "nPRAOMT1dt_8",
        "colab_type": "text"
      },
      "source": [
        "한편,\n",
        ">$\\displaystyle P_{l,m}(r) = \\int_r^{∞} ∮ (1/r^{\\prime l+1})p(r \\prime,\\theta, \\varphi)\\, Y_{l,m}(\\theta, \\varphi) \\,\\rho^{\\prime 2} \\,d\\ Ω \\,d\\ r^\\prime$,"
      ]
    },
    {
      "cell_type": "markdown",
      "metadata": {
        "id": "WTqnZibud0YN",
        "colab_type": "text"
      },
      "source": [
        ">$\\displaystyle q_{l,m}(r) = \\int_0^{r} ∮ r^{\\prime l}p(r \\prime,\\theta, \\varphi)\\, Y_{l,m}(\\theta, \\varphi) \\,\\rho^{\\prime 2} \\,d\\ Ω \\,d\\ r^\\prime$."
      ]
    },
    {
      "cell_type": "markdown",
      "metadata": {
        "id": "e8_T_VMq86Cq",
        "colab_type": "text"
      },
      "source": [
        "## (b)derive  G(r,ϕ,θ;ρ,φ,ϑ)  in the equivalent integral formula:"
      ]
    },
    {
      "cell_type": "markdown",
      "metadata": {
        "id": "LA321GRJ85_O",
        "colab_type": "text"
      },
      "source": [
        "위 식은 Helmholtz Equatiion in Ball 과의 연관성을 통해 풀 수 있다."
      ]
    },
    {
      "cell_type": "markdown",
      "metadata": {
        "id": "f_1vRTqt8574",
        "colab_type": "text"
      },
      "source": [
        "$\\begin{align*}\n",
        " u(r,\\phi,\\theta)=R(r)Y(\\phi,\\theta)\\end{align*}$ 로 변수분리 할 수 있다."
      ]
    },
    {
      "cell_type": "markdown",
      "metadata": {
        "id": "9UmVOTfV854b",
        "colab_type": "text"
      },
      "source": [
        "$\\begin{align*}\n",
        " r^2R''+2rR'+(kr^2-\\lambda)R=0\\end{align*}$이고, $\\begin{align*}\n",
        "\\lambda=n(n+1)\\end{align*}, n=0,1,2,\\cdot\\cdot\\cdot$이다.\n",
        "\n",
        "또한 , $\\begin{align*}\n",
        "R(R)=0\\end{align*}$이다. * 괄호 속의 R은 반지름의 최댓값이다."
      ]
    },
    {
      "cell_type": "markdown",
      "metadata": {
        "id": "laTfacRW85xz",
        "colab_type": "text"
      },
      "source": [
        "$\\begin{align*}\n",
        "\\frac {\\partial^2Y}{\\partial\\Phi^2}+\\cot\\phi \\frac{\\partial Y}{\\partial\\Phi}+\\csc^2\\phi\\frac{\\partial^2Y}{\\partial \\Theta^2}+\\lambda Y =0 \\end{align*}$이다."
      ]
    },
    {
      "cell_type": "markdown",
      "metadata": {
        "id": "mX7dWPqz85uH",
        "colab_type": "text"
      },
      "source": [
        "또한, $\\begin{align*}\n",
        " Y_{nm}(\\phi,\\theta)\\end{align*}$에서$\\begin{align*}m= 0,\\pm 1, \\pm2,\\cdot\\cdot\\cdot\\pm n\\end{align*}$ 이다."
      ]
    },
    {
      "cell_type": "markdown",
      "metadata": {
        "id": "P6Ql1LY0boHJ",
        "colab_type": "text"
      },
      "source": [
        "$\\begin{align*} k=\\mu^2 \\end{align*}$ 으로 두겠다."
      ]
    },
    {
      "cell_type": "markdown",
      "metadata": {
        "id": "bL10HBvxAj6m",
        "colab_type": "text"
      },
      "source": [
        "따라서, R에 대한 Spherical Bessel equation은 다음과 같다."
      ]
    },
    {
      "cell_type": "markdown",
      "metadata": {
        "id": "9ItUC-70AvVq",
        "colab_type": "text"
      },
      "source": [
        "$\\begin{align*}\n",
        " Y_{nm}(\\phi,\\theta)\\end{align*}$에서$\\begin{align*}m= 0,\\pm 1, \\pm2,\\cdot\\cdot\\cdot\\pm n\\end{align*}$ "
      ]
    },
    {
      "cell_type": "markdown",
      "metadata": {
        "id": "14fdqa_4A2X_",
        "colab_type": "text"
      },
      "source": [
        "$\\begin{align*}\n",
        " r^2R''+2rR'+(\\mu^2r^2-n(n+1))R=0, R(a)=0 \\end{align*}$ 이다."
      ]
    },
    {
      "cell_type": "markdown",
      "metadata": {
        "id": "XZYRjXoqA2SU",
        "colab_type": "text"
      },
      "source": [
        "$\\begin{align*}\n",
        " R_{n,j}(r)=j_n (\\mu_{n,j}r), n=0,1,2,\\cdot\\cdot\\cdot, j=1,2,\\cdot\\cdot\\cdot \\end{align*}$ 이므로"
      ]
    },
    {
      "cell_type": "markdown",
      "metadata": {
        "id": "5Qop5ShhA2NJ",
        "colab_type": "text"
      },
      "source": [
        "$\\begin{align*}\n",
        " \\mu=\\mu_{n,j}=\\frac{\\alpha_{n+1/2j}}{a} \\end{align*}$ 에서"
      ]
    },
    {
      "cell_type": "markdown",
      "metadata": {
        "id": "CShhwAV3A2Id",
        "colab_type": "text"
      },
      "source": [
        "$\\begin{align*}\n",
        " j_n(r)=(\\frac{\\pi}{2r})^{1/2}J_{n+\\frac{1}{2}}(r) \\end{align*}$ 이다"
      ]
    },
    {
      "cell_type": "markdown",
      "metadata": {
        "id": "pbZqQfFEA2Dz",
        "colab_type": "text"
      },
      "source": [
        "따라서, $\\begin{align*}\n",
        " \\left\\vert m \\right\\vert \\le n\\end{align*}$ 일 때,\n",
        "\n",
        " $\\begin{align*}\n",
        " u_{jnm}(r,\\phi,\\theta)=j_n(\\mu_{n,j}r)Y_{n,m}(\\phi,\\theta)\\end{align*}$이다."
      ]
    },
    {
      "cell_type": "markdown",
      "metadata": {
        "id": "pU5va6hFD302",
        "colab_type": "text"
      },
      "source": [
        "구형 좌표계에서 원점에서 $p(r,\\phi,\\theta)$까지의 거리인 $\\rho$를 사용하여\n",
        "$u(r,\\phi,\\theta)$를 구하면,"
      ]
    },
    {
      "cell_type": "markdown",
      "metadata": {
        "id": "VXK5CqwDA1_X",
        "colab_type": "text"
      },
      "source": [
        "$\\begin{align*}\n",
        " u(r,\\phi,\\theta)=\\sum_{j=1}^\\infty \\sum_{n=0}^{2\\pi}\\sum_{m=-n}^nA_{jnm}j_n(\\lambda_{n,j}r)Y_{n,m}(\\phi,\\theta)\\end{align*}$ 이며"
      ]
    },
    {
      "cell_type": "markdown",
      "metadata": {
        "id": "5VYgDxvmA16z",
        "colab_type": "text"
      },
      "source": [
        "$\\begin{align*}\n",
        " A_{jnm}=\\frac{2}{a^3 j_{n+1}^2 (\\alpha_{n+\\frac{1}{2},j})}\\times \\int_0^{2\\pi} \\int_0^\\pi \\int_0^R u(r,\\phi,\\theta)j_n (\\mu_{n,j} r)Y_{n,m}(\\phi,\\theta)r^2 dr d\\phi d\\theta \\end{align*}$ 이다"
      ]
    },
    {
      "cell_type": "markdown",
      "metadata": {
        "id": "7R3RtRE9HOAQ",
        "colab_type": "text"
      },
      "source": [
        "Poisson equation에서는 "
      ]
    },
    {
      "cell_type": "markdown",
      "metadata": {
        "id": "R6EY_0_yA12y",
        "colab_type": "text"
      },
      "source": [
        "$\\begin{align*}\n",
        " u(r,\\phi,\\theta)=\\sum_{j=1}^\\infty \\sum_{n=0}^{2\\pi}\\sum_{m=-n}^nB_{jnm}j_n(\\lambda_{n,j}r)Y_{n,m}(\\phi,\\theta)\\end{align*}$  이다. $\\begin{align*} B_{jnm}= \\frac{-1}{\\mu^2_{n,j}}A_{jnm} \\end{align*}$ 이다."
      ]
    },
    {
      "cell_type": "markdown",
      "metadata": {
        "id": "0ueCY4hmA1zE",
        "colab_type": "text"
      },
      "source": [
        "$\\begin{align*}\n",
        " u(r,\\phi,\\theta)=\\sum_{j=1}^\\infty \\sum_{n=0}^{2\\pi}\\sum_{m=-n}^n-\\mu_{n,j}^2B_{jnm}j_n(\\lambda_{n,j}r)Y_{n,m}(\\phi,\\theta)\\end{align*}$ 가 된다 . 따라서 정리하면,"
      ]
    },
    {
      "cell_type": "markdown",
      "metadata": {
        "id": "WdYR4RMHA1vg",
        "colab_type": "text"
      },
      "source": [
        "$\\begin{align*}\n",
        " u(r,\\phi,\\theta)=\\int_0^{2\\pi} \\int_0^\\pi \\int_0^R\\sum_{j=1}^\\infty \\sum_{n=0}^{2\\pi}\\sum_{m=-n}^n \\frac{2}{a^3 j_{n+1}^2(\\alpha_{n+\\frac{1}{2},j})}j_n^2(\\mu_{n,j}r)Y_{nm}^2(\\phi,\\theta)F(\\rho, \\varphi,\\vartheta) \\,\\rho^2 \\sin\\varphi \\,d\\rho \\,d\\varphi \\, d\\vartheta \\end{align*}$\n",
        "\n"
      ]
    },
    {
      "cell_type": "markdown",
      "metadata": {
        "id": "ql8ZH2OnA1oi",
        "colab_type": "text"
      },
      "source": [
        "따라서,$\\begin{align*} G(r,\\phi,\\theta; \\rho,\\varphi,\\vartheta) = \\sum_{j=1}^\\infty \\sum_{n=0}^{2\\pi}\\sum_{m=-n}^n \\frac{2}{a^3 j_{n+1}^2(\\alpha_{n+\\frac{1}{2},j})}j_n^2(\\mu_{n,j}r)Y_{nm}^2(\\phi,\\theta)\\end{align*}$ 이다."
      ]
    }
  ]
}