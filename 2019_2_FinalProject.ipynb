{
  "nbformat": 4,
  "nbformat_minor": 0,
  "metadata": {
    "colab": {
      "name": "2019_2_FinalProject.ipynb",
      "provenance": [],
      "collapsed_sections": [],
      "include_colab_link": true
    },
    "kernelspec": {
      "name": "python3",
      "display_name": "Python 3"
    }
  },
  "cells": [
    {
      "cell_type": "markdown",
      "metadata": {
        "id": "view-in-github",
        "colab_type": "text"
      },
      "source": [
        "<a href=\"https://colab.research.google.com/github/po0o0o0op/EngineMath/blob/master/2019_2_FinalProject.ipynb\" target=\"_parent\"><img src=\"https://colab.research.google.com/assets/colab-badge.svg\" alt=\"Open In Colab\"/></a>"
      ]
    },
    {
      "cell_type": "markdown",
      "metadata": {
        "id": "x5GHxXsoNJk1",
        "colab_type": "text"
      },
      "source": [
        "# Laplace's Equation in the Sphere"
      ]
    },
    {
      "cell_type": "markdown",
      "metadata": {
        "id": "M6xc3zKlNVgy",
        "colab_type": "text"
      },
      "source": [
        "We consider the boundary value problem\n",
        ">$\\begin{align*}\n",
        " u_{rr} +\\frac{2}{r} u_r &+\\frac{1}{r^2}u_{\\phi\\phi} +\\frac{\\cot\\phi}{r^2} u_{\\phi} +\\frac{1}{r^2\\sin^2\\phi}u_{\\theta\\theta} = 0, \\;\\; r < R \\\\ \n",
        " u(R,\\phi,\\theta) &= g(\\phi,\\theta)\\\\ \n",
        "\\end{align*}$\n",
        "\n",
        "in a sphere of radius $R$. (a) Solve this problem by separation of variables, (b) derive $K(r,\\phi,\\theta; R,\\varphi,\\vartheta)$ in the equivalent integral formula:\n",
        "\n",
        ">$\\displaystyle u(r,\\phi,\\theta) = \\int_0^{2\\pi} \\int_0^\\pi K(r,\\phi,\\theta; R,\\varphi,\\vartheta)\\, g(\\varphi,\\vartheta) \\sin\\varphi \\,d\\varphi \\, d\\vartheta$"
      ]
    },
    {
      "cell_type": "markdown",
      "metadata": {
        "id": "2DxGjG-SNHCQ",
        "colab_type": "text"
      },
      "source": [
        "## (a) Solve this problem by separation of variables"
      ]
    },
    {
      "cell_type": "markdown",
      "metadata": {
        "id": "cFgwkThANHNF",
        "colab_type": "text"
      },
      "source": [
        "$\\begin{align*}\n",
        " \\nabla^2U=u_{rr} +\\frac{2}{r} u_r &+\\frac{1}{r^2}u_{\\phi\\phi} +\\frac{\\cot\\phi}{r^2} u_{\\phi} +\\frac{1}{r^2\\sin^2\\phi}u_{\\theta\\theta} = 0, \\;\\; r < R \n",
        "\\end{align*}$\n"
      ]
    },
    {
      "cell_type": "markdown",
      "metadata": {
        "id": "1pxWM6TlNdi7",
        "colab_type": "text"
      },
      "source": [
        "##### 1. 변수분리를 합니다"
      ]
    },
    {
      "cell_type": "markdown",
      "metadata": {
        "id": "uNltRqe8NdgU",
        "colab_type": "text"
      },
      "source": [
        "$U=R(r)\\Phi(\\phi)\\Theta(\\theta)$로 변수분리를 한다."
      ]
    },
    {
      "cell_type": "markdown",
      "metadata": {
        "id": "5EbL6eXORvHe",
        "colab_type": "text"
      },
      "source": [
        "또한, $\\frac{\\partial R}{\\partial r}=R(r)^\\prime\\Phi(\\phi)\\Theta(\\theta), \\frac{\\partial u}{\\partial \\phi}=R(r)\\Phi^\\prime(\\phi)\\Theta(\\theta), $ $\\frac{\\partial u}{\\partial \\theta}=R(r)\\Phi(\\phi)\\Theta^\\prime(\\theta)$ 이므로 \n",
        "\n",
        "이를 위 식에 대입하고 양변에 $r^2$을 곱한다."
      ]
    },
    {
      "cell_type": "markdown",
      "metadata": {
        "id": "oGOXHMSCSCZQ",
        "colab_type": "text"
      },
      "source": [
        "$\\begin{align*}\n",
        "  \\nabla^2U= r^2 R''\\Theta\\Phi+2rR'\\Theta\\Phi+R\\Theta\\Phi''+cot\\phi R\\Theta\\Phi'+csc^2\\phi R\\Phi\\Theta''=0\n",
        "\\end{align*}$"
      ]
    },
    {
      "cell_type": "markdown",
      "metadata": {
        "id": "7PYkYafUNdnl",
        "colab_type": "text"
      },
      "source": [
        "그리고 $R\\Theta\\Phi$로 나누면, 다음과 같이 세 개의 ODE로 나타낼 수 있다."
      ]
    },
    {
      "cell_type": "markdown",
      "metadata": {
        "id": "uWkl2YnuSCRq",
        "colab_type": "text"
      },
      "source": [
        "$\\begin{align*}\n",
        "  \\nabla^2U=  \\frac{r^2R''+2rR'}{R}+ \\frac{\\Phi''+cot\\phi\\Phi'}{\\Phi}+ \\frac {csc^2\\phi\\Theta''}{\\Theta}= 0\n",
        "\\end{align*}$"
      ]
    },
    {
      "cell_type": "markdown",
      "metadata": {
        "id": "ElrlLXUEY_Rc",
        "colab_type": "text"
      },
      "source": [
        "또한, 분리상수를 이용하여 다음과 같이 식을 정리한다."
      ]
    },
    {
      "cell_type": "markdown",
      "metadata": {
        "id": "taCFLsKWSCPd",
        "colab_type": "text"
      },
      "source": [
        "$\\begin{align*}\n",
        "  -\\frac{r^2R''+2rR'}{R}= \\frac{\\Theta''+cot\\theta\\Phi'}{\\Phi}+ \\frac {csc^2\\phi\\Theta''}{\\Theta}= - \\lambda <0\n",
        "\\end{align*}$"
      ]
    },
    {
      "cell_type": "markdown",
      "metadata": {
        "id": "YYrrGTmYSCKU",
        "colab_type": "text"
      },
      "source": [
        "각각 식을 계산한다."
      ]
    },
    {
      "cell_type": "markdown",
      "metadata": {
        "id": "MA1Mx3oeNdc3",
        "colab_type": "text"
      },
      "source": [
        "먼저, $\\begin{align*}\n",
        "  -\\frac{r^2R''+2rR'}{R}=  - \\lambda <0\n",
        "\\end{align*}$ 에서 R을 양 변에 곱한뒤 이항하면,"
      ]
    },
    {
      "cell_type": "markdown",
      "metadata": {
        "id": "juFUpurmUSoo",
        "colab_type": "text"
      },
      "source": [
        "$\\begin{align*}\n",
        "  -r^2R''+2rR'- \\lambda R=0\n",
        "\\end{align*}$ 이다."
      ]
    },
    {
      "cell_type": "markdown",
      "metadata": {
        "id": "7Qw39wrENdWk",
        "colab_type": "text"
      },
      "source": [
        "위 식은 Cauchy-Euler 방정식 이며 아래에서 Legendre 방정식을 이용하기 떄문에 $\\lambda=n(n+1)$이므로, 일반해는 $R(r)= c_1 r^n+c_2 r^{-(n+1)}$이다."
      ]
    },
    {
      "cell_type": "markdown",
      "metadata": {
        "id": "ZTZUwwBBNdUF",
        "colab_type": "text"
      },
      "source": [
        "$r$의 범위가 $0<r<R$으로 유한하므로 $c_2=0$이므로,  $R_n(r)= A_n r^n$이다."
      ]
    },
    {
      "cell_type": "markdown",
      "metadata": {
        "id": "dB8Q9io9bofc",
        "colab_type": "text"
      },
      "source": [
        "두 번째에서 $\\begin{align*}\n",
        "  \\frac{\\Phi''+cot\\theta\\Phi'}{\\Phi}+ \\frac {csc^2\\phi\\Theta''}{\\Theta}= - \\lambda \n",
        "\\end{align*}$를 다시 변수분리 하기 위해 두번째 분리상수 $\\mu$를 사용하면,"
      ]
    },
    {
      "cell_type": "markdown",
      "metadata": {
        "id": "4gAZjIYxbocF",
        "colab_type": "text"
      },
      "source": [
        "$\\begin{align*} -\\frac{\\Phi''+cot\\theta\\Phi'}{\\Phi}-\\lambda =\\frac {csc^2\\phi\\Theta''}{\\Theta} = -\\mu <0 \\end{align*}$  이다."
      ]
    },
    {
      "cell_type": "markdown",
      "metadata": {
        "id": "lvGAnFD9boZn",
        "colab_type": "text"
      },
      "source": [
        "$\\begin{align*} \\frac {csc^2\\phi\\Theta''}{\\Theta} = -\\mu \\end{align*}$를 먼저 계산하기 위해 양변에 $\\Theta$를 곱하고 이항하여 계산하면,"
      ]
    },
    {
      "cell_type": "markdown",
      "metadata": {
        "id": "6eoR8UqCboXB",
        "colab_type": "text"
      },
      "source": [
        "$\\begin{align*}  \\Theta'' +m^2\\Theta=0 , m= 0,\\pm 1, \\pm2,\\cdot\\cdot\\cdot\\pm n\\end{align*}$ 이므로 계산하면,"
      ]
    },
    {
      "cell_type": "markdown",
      "metadata": {
        "id": "bWgPdDHhhn2_",
        "colab_type": "text"
      },
      "source": [
        "$\\begin{align*}  \\Theta(\\theta)=e^{im\\theta} \\end{align*}$ 이이다."
      ]
    },
    {
      "cell_type": "markdown",
      "metadata": {
        "id": "Vg1HYRjph4zv",
        "colab_type": "text"
      },
      "source": [
        "마지막 세번째 식  $\\begin{align*} \\frac{\\Phi''+cot\\theta\\Phi'}{\\Phi}+\\lambda -\\mu=0  \\end{align*}$ 에서 양변에 \\Phi를 곱한 후 계산하면 이는 Legendre 방정식으로 풀 수 있으며 따라서,"
      ]
    },
    {
      "cell_type": "markdown",
      "metadata": {
        "id": "9UZ6KbYBih25",
        "colab_type": "text"
      },
      "source": [
        "$\\begin{align*} \n",
        " \\Phi(\\phi)= P_n^m (cos\\phi \\end{align*}) $이다."
      ]
    },
    {
      "cell_type": "markdown",
      "metadata": {
        "id": "PsrYmPwccXdF",
        "colab_type": "text"
      },
      "source": [
        "따라서, $\\begin{align*} \n",
        " u(r,\\phi,\\theta)=\\sum_{n=0}^\\infty \\sum_{m=-n}^n A_{nm} (\\frac{r}{R})^ne^{im\\theta} P_n^m (cos\\phi \\end{align*}) $이다."
      ]
    },
    {
      "cell_type": "markdown",
      "metadata": {
        "id": "-_vYBXQKboUu",
        "colab_type": "text"
      },
      "source": [
        "## (b) derive  K(r,ϕ,θ;R,φ,ϑ)  in the equivalent integral formula:"
      ]
    },
    {
      "cell_type": "markdown",
      "metadata": {
        "id": "61bNkw1bo5PK",
        "colab_type": "text"
      },
      "source": [
        "$\\begin{align*} \n",
        " u(r,\\phi,\\theta)=\\sum_{n=0}^\\infty \\sum_{m=-n}^n A_{nm}(\\frac{r}{R})^ne^{im\\theta} P_n^m (cos\\phi \\end{align*}) $에서"
      ]
    },
    {
      "cell_type": "markdown",
      "metadata": {
        "id": "_7-FC3vYkXQA",
        "colab_type": "text"
      },
      "source": [
        "$r=R$일때, $u(r,\\phi,\\theta)=g(\\phi,\\theta)$이므로 $ \\begin{align*} \n",
        " g(\\phi,\\theta)=\\sum_{n=0}^\\infty \\sum_{m=-n}^n A_{nm} e^{im\\theta} P_n^m (cos\\phi) \\end{align*}$ 이다."
      ]
    },
    {
      "cell_type": "markdown",
      "metadata": {
        "id": "ejDnHxdOsFQT",
        "colab_type": "text"
      },
      "source": [
        "따라서, $\\begin{align*} \n",
        " u(r,\\phi,\\theta)=\\int_{0}^{2\\pi}\\int_{0}^{\\pi}\\sum_{n=0}^\\infty \\sum_{m=-n}^n  \\frac {2n+1}{2} (\\frac {r}{R})^n e^{2im\\theta}P_n^{2m}(cos\\phi)g(\\phi,\\theta)sin\\phi\\, d\\phi d\\theta \\end{align*} $이다."
      ]
    },
    {
      "cell_type": "markdown",
      "metadata": {
        "id": "h3iX-imQ1mMf",
        "colab_type": "text"
      },
      "source": [
        " 위 식에 $\\begin{align*} Y_{n,m}(\\phi,\\theta) \\end{align*} $라는   spherical - harmonics를 이용하면,\n",
        "$\\begin{align*}e^{im\\theta}P_n^{m}(cos\\phi)= Y_{n,m}(\\phi,\\theta) \\end{align*} $라고 하며 "
      ]
    },
    {
      "cell_type": "markdown",
      "metadata": {
        "id": "hq9Ofet82uyg",
        "colab_type": "text"
      },
      "source": [
        "여기서, $\\begin{align*}P_n^{m}(cos\\phi) \\end{align*} $를  $\\begin{align*} n=0,1,2,\\cdot\\cdot\\cdot, m= m= 0,\\pm 1, \\pm2,\\cdot\\cdot\\cdot\\pm n \\end{align*} $ 범위를 위한 associated Legendre function으로 확장해야한다."
      ]
    },
    {
      "cell_type": "markdown",
      "metadata": {
        "id": "w1Wo0NbL3kDr",
        "colab_type": "text"
      },
      "source": [
        "따라서,  $\\begin{align*} Y_{n,m}^2(\\phi,\\theta) = e^{2im\\theta}P_n^{2m}(cos\\phi) \\end{align*} $을 확장 하면,"
      ]
    },
    {
      "cell_type": "markdown",
      "metadata": {
        "id": "jPYKjtr137h5",
        "colab_type": "text"
      },
      "source": [
        "$\\begin{align*} Y_{n,m}(\\phi,\\theta) = \\sqrt{\\frac {2n+1}{4\\pi}\\frac {(n-m)!}{(n+m)!}} e^{2im\\theta}P_n^{2m}(cos\\phi) \\end{align*} $ 이다."
      ]
    },
    {
      "cell_type": "markdown",
      "metadata": {
        "id": "wbRk-nl-4eth",
        "colab_type": "text"
      },
      "source": [
        "그러므로 ,  $\\begin{align*} \n",
        " u(r,\\phi,\\theta)=\\int_{0}^{2\\pi}\\int_{0}^{\\pi}\\sum_{n=0}^\\infty \\sum_{m=-n}^n  \\frac {(2n+1)^2}{8\\pi} (\\frac {r}{R})^n \\frac {(n-m)!}{(n+m)!} e^{2im\\theta}P_n^{2m}(cos\\phi)g(\\phi,\\theta)sin\\phi\\, d\\phi d\\theta \\end{align*} $ 이다."
      ]
    },
    {
      "cell_type": "markdown",
      "metadata": {
        "id": "629UM9q6tcMZ",
        "colab_type": "text"
      },
      "source": [
        "위 식과 문제에서 구하고자 하는 식에서 $\\begin{align*}K(r,\\phi,\\theta; R,\\varphi,\\vartheta)\\end{align*} $을 구하기 위해 $\\begin{align*} u(r,\\phi,\\theta) = \\int_0^{2\\pi} \\int_0^\\pi K(r,\\phi,\\theta; R,\\varphi,\\vartheta)\\, g(\\varphi,\\vartheta) \\sin\\varphi \\,d\\varphi \\, \\vartheta \\end{align*}$과 비교하면,"
      ]
    },
    {
      "cell_type": "markdown",
      "metadata": {
        "id": "LJR2acnWuV6n",
        "colab_type": "text"
      },
      "source": [
        "$\\begin{align*} K(r,\\phi,\\theta; R,\\varphi,\\vartheta) = \\sum_{n=0}^\\infty \\sum_{m=-n}^n  \\frac{(2n+1)^2}{8\\pi} (\\frac {r}{R})^n \\frac {(n-m)!}{(n+m)!} e^{2im\\theta}P_n^{2m}(cos\\phi) \\end{align*}$ 이다."
      ]
    },
    {
      "cell_type": "markdown",
      "metadata": {
        "id": "SRqftDHPboQi",
        "colab_type": "text"
      },
      "source": [
        "#Poisson's Equation for the Sphere"
      ]
    },
    {
      "cell_type": "markdown",
      "metadata": {
        "id": "d2VCbWpiboOj",
        "colab_type": "text"
      },
      "source": [
        "We consider the problem\n",
        "\n",
        ">$\\begin{align*}\n",
        " u_{rr} +\\frac{2}{r} u_r &+\\frac{1}{r^2}u_{\\phi\\phi} +\\frac{\\cot\\phi}{r^2} u_{\\phi} +\\frac{1}{r^2\\sin^2\\phi}u_{\\theta\\theta} = -F(r,\\phi,\\theta), \\;\\; r < R \\\\ \n",
        " u(R,\\phi,\\theta) &= 0\\\\ \n",
        "\\end{align*}$\n",
        "\n",
        "(a) solve by taking the finite Fourier Transforms, (b) derive $G(r,\\phi,\\theta; \\rho,\\varphi,\\vartheta)$ in the equivalent integral formula:\n",
        "\n",
        ">$\\displaystyle u(r,\\phi,\\theta) = \\int_0^{2\\pi} \\int_0^\\pi \\int_0^R G(r,\\phi,\\theta; \\rho,\\varphi,\\vartheta)\\, F(\\rho, \\varphi,\\vartheta) \\,\\rho^2 \\sin\\varphi \\,d\\rho \\,d\\varphi \\, d\\vartheta$"
      ]
    },
    {
      "cell_type": "markdown",
      "metadata": {
        "id": "5s6LeWC1boMu",
        "colab_type": "text"
      },
      "source": [
        "##a) solve by taking the finite Fourier Transforms"
      ]
    },
    {
      "cell_type": "markdown",
      "metadata": {
        "id": "9w4z4aH985BY",
        "colab_type": "text"
      },
      "source": [
        "$ F(r,\\phi,\\theta)=0 $이라고 하면,  "
      ]
    },
    {
      "cell_type": "markdown",
      "metadata": {
        "id": "teqSqXAvN8yT",
        "colab_type": "text"
      },
      "source": [
        "$\\begin{align*}\n",
        " a[u]=\\frac{1}{\\pi}\\int_0^{2\\pi} u(r,\\theta)cos\\theta d\\theta=a_n(r) , u=0,1,2,\\cdot\\cdot\\cdot\\end{align*}$ 이고\n",
        "\n",
        " $\\begin{align*}\n",
        " b[u]=\\frac{1}{\\pi}\\int_0^{2\\pi} u(r,\\theta)sin\\theta d\\theta=b_n(r) , u=1,2,\\cdot\\cdot\\cdot\\end{align*}$ 이다.\n",
        " "
      ]
    },
    {
      "cell_type": "markdown",
      "metadata": {
        "id": "cbbMrS1V86GT",
        "colab_type": "text"
      },
      "source": [
        "$\\begin{align*}\n",
        " u(r)=\\frac{a_0}{2}+ \\sum_{n=1}^\\infty [a_n(r)cos\\theta+b_n(r)sin\\theta ]\\end{align*}$ 이다."
      ]
    },
    {
      "cell_type": "markdown",
      "metadata": {
        "id": "ZYKGMxiyPCW8",
        "colab_type": "text"
      },
      "source": [
        "Fourier 변환을 하면, "
      ]
    },
    {
      "cell_type": "markdown",
      "metadata": {
        "id": "vjGQ_RIUPHyt",
        "colab_type": "text"
      },
      "source": [
        "$\\begin{align*}\n",
        " a_n''+\\frac{1}{r}a_n'+\\frac{a_n}{r^2}=0 , n\\ne0 \\end{align*}$ \n",
        "\n",
        " $\\begin{align*}\n",
        " b_n''+\\frac{1}{r}b_n'+\\frac{b_n}{r^2}=0   \\end{align*}$ "
      ]
    },
    {
      "cell_type": "markdown",
      "metadata": {
        "id": "XxbMyv5NP_QA",
        "colab_type": "text"
      },
      "source": [
        "$\\begin{align*}\n",
        " a_0''+\\frac{1}{r}a_0'=2 \\end{align*}$ \n",
        "\n",
        " $\\begin{align*}\n",
        " a_0=+\\frac{r^2}{2}+c_1 (r \\rightarrow R , c_2=0) \\end{align*}$ \n",
        "\n",
        " $\\begin{align*}\n",
        " a_0(r)=\\frac{r^2}{2}+c_1  \\end{align*}$"
      ]
    },
    {
      "cell_type": "markdown",
      "metadata": {
        "id": "69thjpnaQys6",
        "colab_type": "text"
      },
      "source": [
        "$\\begin{align*}\n",
        " a_n (r)=c_1 r^n+c_2 r^{-n} , (r \\rightarrow R , c_2=0)\\end{align*}$ \n",
        "\n",
        "$\\begin{align*}\n",
        " b_n (r)=c_1 r^n+c_2 r^{-n} , (r \\rightarrow R , c_2=0)\\end{align*}$ "
      ]
    },
    {
      "cell_type": "markdown",
      "metadata": {
        "id": "6Ymra6bvRln_",
        "colab_type": "text"
      },
      "source": [
        "따라서, $\\begin{align*}\n",
        " a_n (r)=c_n r^n\\end{align*}$ , $\\begin{align*}\n",
        " b_n (r)=d_n r^n\\end{align*}$  이다."
      ]
    },
    {
      "cell_type": "markdown",
      "metadata": {
        "id": "S_3SgG3lR1Oj",
        "colab_type": "text"
      },
      "source": [
        "$\\begin{align*}\n",
        " u(r,\\theta)=\\frac{1}{2}(\\frac {r^2}{2}+c_1)+ \\sum_{n=1}^\\infty r^n[c_ncos_n\\theta+d_n(r)sin_n\\theta ]\\end{align*}$  에서 r=1일 때,\n",
        "\n",
        " $\\begin{align*}\n",
        " sin\\theta=\\frac{1}{2}(\\frac {1}{2}+c_1)+ \\sum_{n=1}^\\infty [c_ncos_n\\theta+d_n(r)sin_n\\theta \\end{align*}$ 이다.\n",
        "\n",
        " $\\begin{align*}\n",
        " c_1= -\\frac{1}{2}, c_2=c_3=0, d_1=d_2=0 \\end{align*}$ \n",
        "\n",
        " $\\begin{align*}\n",
        " u(r,\\theta)=\\frac{1}{4}(r^2-1)+rsin\\theta \\end{align*}$ 이다."
      ]
    },
    {
      "cell_type": "markdown",
      "metadata": {
        "id": "e8_T_VMq86Cq",
        "colab_type": "text"
      },
      "source": [
        "## (b)derive  G(r,ϕ,θ;ρ,φ,ϑ)  in the equivalent integral formula:"
      ]
    },
    {
      "cell_type": "markdown",
      "metadata": {
        "id": "LA321GRJ85_O",
        "colab_type": "text"
      },
      "source": [
        "위 식은 Helmholtz Equatiion in Ball 과의 연관성을 통해 풀 수 있다."
      ]
    },
    {
      "cell_type": "markdown",
      "metadata": {
        "id": "f_1vRTqt8574",
        "colab_type": "text"
      },
      "source": [
        "$\\begin{align*}\n",
        " u(r,\\phi,\\theta)=R(r)Y(\\phi,\\theta)\\end{align*}$ 로 변수분리 할 수 있다."
      ]
    },
    {
      "cell_type": "markdown",
      "metadata": {
        "id": "9UmVOTfV854b",
        "colab_type": "text"
      },
      "source": [
        "$\\begin{align*}\n",
        " r^2R''+2rR'+(kr^2-\\lambda)R=0\\end{align*}$이고, $\\begin{align*}\n",
        "\\lambda=n(n+1)\\end{align*}, n=0,1,2,\\cdot\\cdot\\cdot$이다.\n",
        "\n",
        "또한 , $\\begin{align*}\n",
        "R(R)=0\\end{align*}$이다. * 괄호 속의 R은 반지름의 최댓값이다."
      ]
    },
    {
      "cell_type": "markdown",
      "metadata": {
        "id": "laTfacRW85xz",
        "colab_type": "text"
      },
      "source": [
        "$\\begin{align*}\n",
        "\\frac {\\partial^2Y}{\\partial\\Phi^2}+\\cot\\phi \\frac{\\partial Y}{\\partial\\Phi}+\\csc^2\\phi\\frac{\\partial^2Y}{\\partial \\Theta^2}+\\lambda Y =0 \\end{align*}$이다."
      ]
    },
    {
      "cell_type": "markdown",
      "metadata": {
        "id": "mX7dWPqz85uH",
        "colab_type": "text"
      },
      "source": [
        "또한, $\\begin{align*}\n",
        " Y_{nm}(\\phi,\\theta)\\end{align*}$에서$\\begin{align*}m= 0,\\pm 1, \\pm2,\\cdot\\cdot\\cdot\\pm n\\end{align*}$ 이다."
      ]
    },
    {
      "cell_type": "markdown",
      "metadata": {
        "id": "P6Ql1LY0boHJ",
        "colab_type": "text"
      },
      "source": [
        "$\\begin{align*} k=\\mu^2 \\end{align*}$ 으로 두겠다."
      ]
    },
    {
      "cell_type": "markdown",
      "metadata": {
        "id": "bL10HBvxAj6m",
        "colab_type": "text"
      },
      "source": [
        "따라서, R에 대한 Spherical Bessel equation은 다음과 같다."
      ]
    },
    {
      "cell_type": "markdown",
      "metadata": {
        "id": "9ItUC-70AvVq",
        "colab_type": "text"
      },
      "source": [
        "$\\begin{align*}\n",
        " Y_{nm}(\\phi,\\theta)\\end{align*}$에서$\\begin{align*}m= 0,\\pm 1, \\pm2,\\cdot\\cdot\\cdot\\pm n\\end{align*}$ "
      ]
    },
    {
      "cell_type": "markdown",
      "metadata": {
        "id": "14fdqa_4A2X_",
        "colab_type": "text"
      },
      "source": [
        "$\\begin{align*}\n",
        " r^2R''+2rR'+(\\mu^2r^2-n(n+1))R=0, R(a)=0 \\end{align*}$ 이다."
      ]
    },
    {
      "cell_type": "markdown",
      "metadata": {
        "id": "XZYRjXoqA2SU",
        "colab_type": "text"
      },
      "source": [
        "$\\begin{align*}\n",
        " R_{n,j}(r)=j_n (\\mu_{n,j}r), n=0,1,2,\\cdot\\cdot\\cdot, j=1,2,\\cdot\\cdot\\cdot \\end{align*}$ 이므로"
      ]
    },
    {
      "cell_type": "markdown",
      "metadata": {
        "id": "5Qop5ShhA2NJ",
        "colab_type": "text"
      },
      "source": [
        "$\\begin{align*}\n",
        " \\mu=\\mu_{n,j}=\\frac{\\alpha_{n+1/2j}}{a} \\end{align*}$ 에서"
      ]
    },
    {
      "cell_type": "markdown",
      "metadata": {
        "id": "CShhwAV3A2Id",
        "colab_type": "text"
      },
      "source": [
        "$\\begin{align*}\n",
        " j_n(r)=(\\frac{\\pi}{2r})^{1/2}J_{n+\\frac{1}{2}}(r) \\end{align*}$ 이다"
      ]
    },
    {
      "cell_type": "markdown",
      "metadata": {
        "id": "pbZqQfFEA2Dz",
        "colab_type": "text"
      },
      "source": [
        "따라서, $\\begin{align*}\n",
        " \\left\\vert m \\right\\vert \\le n\\end{align*}$ 일 때,\n",
        "\n",
        " $\\begin{align*}\n",
        " u_{jnm}(r,\\phi,\\theta)=j_n(\\mu_{n,j}r)Y_{n,m}(\\phi,\\theta)\\end{align*}$이다."
      ]
    },
    {
      "cell_type": "markdown",
      "metadata": {
        "id": "pU5va6hFD302",
        "colab_type": "text"
      },
      "source": [
        "구형 좌표계에서 원점에서 $p(r,\\phi,\\theta)$까지의 거리인 $\\rho$를 사용하여\n",
        "$u(r,\\phi,\\theta)$를 구하면,"
      ]
    },
    {
      "cell_type": "markdown",
      "metadata": {
        "id": "VXK5CqwDA1_X",
        "colab_type": "text"
      },
      "source": [
        "$\\begin{align*}\n",
        " u(r,\\phi,\\theta)=\\sum_{j=1}^\\infty \\sum_{n=0}^{2\\pi}\\sum_{m=-n}^nA_{jnm}j_n(\\lambda_{n,j}r)Y_{n,m}(\\phi,\\theta)\\end{align*}$ 이며"
      ]
    },
    {
      "cell_type": "markdown",
      "metadata": {
        "id": "5VYgDxvmA16z",
        "colab_type": "text"
      },
      "source": [
        "$\\begin{align*}\n",
        " A_{jnm}=\\frac{2}{a^3 j_{n+1}^2 (\\alpha_{n+\\frac{1}{2},j})}\\times \\int_0^{2\\pi} \\int_0^\\pi \\int_0^R u(r,\\phi,\\theta)j_n (\\mu_{n,j} r)Y_{n,m}(\\phi,\\theta)r^2 dr d\\phi d\\theta \\end{align*}$ 이다"
      ]
    },
    {
      "cell_type": "markdown",
      "metadata": {
        "id": "7R3RtRE9HOAQ",
        "colab_type": "text"
      },
      "source": [
        "Poisson equation에서는 "
      ]
    },
    {
      "cell_type": "markdown",
      "metadata": {
        "id": "R6EY_0_yA12y",
        "colab_type": "text"
      },
      "source": [
        "$\\begin{align*}\n",
        " u(r,\\phi,\\theta)=\\sum_{j=1}^\\infty \\sum_{n=0}^{2\\pi}\\sum_{m=-n}^nB_{jnm}j_n(\\lambda_{n,j}r)Y_{n,m}(\\phi,\\theta)\\end{align*}$  이다. $\\begin{align*} B_{jnm}= \\frac{-1}{\\mu^2_{n,j}}A_{jnm} \\end{align*}$ 이다."
      ]
    },
    {
      "cell_type": "markdown",
      "metadata": {
        "id": "0ueCY4hmA1zE",
        "colab_type": "text"
      },
      "source": [
        "$\\begin{align*}\n",
        " u(r,\\phi,\\theta)=\\sum_{j=1}^\\infty \\sum_{n=0}^{2\\pi}\\sum_{m=-n}^n-\\mu_{n,j}^2B_{jnm}j_n(\\lambda_{n,j}r)Y_{n,m}(\\phi,\\theta)\\end{align*}$ 가 된다 . 따라서 정리하면,"
      ]
    },
    {
      "cell_type": "markdown",
      "metadata": {
        "id": "WdYR4RMHA1vg",
        "colab_type": "text"
      },
      "source": [
        "$\\begin{align*}\n",
        " u(r,\\phi,\\theta)=\\int_0^{2\\pi} \\int_0^\\pi \\int_0^R\\sum_{j=1}^\\infty \\sum_{n=0}^{2\\pi}\\sum_{m=-n}^n \\frac{2}{a^3 j_{n+1}^2(\\alpha_{n+\\frac{1}{2},j})}j_n^2(\\mu_{n,j}r)Y_{nm}^2(\\phi,\\theta)F(\\rho, \\varphi,\\vartheta) \\,\\rho^2 \\sin\\varphi \\,d\\rho \\,d\\varphi \\, d\\vartheta \\end{align*}$\n",
        "\n"
      ]
    },
    {
      "cell_type": "markdown",
      "metadata": {
        "id": "ql8ZH2OnA1oi",
        "colab_type": "text"
      },
      "source": [
        "따라서,$\\begin{align*} G(r,\\phi,\\theta; \\rho,\\varphi,\\vartheta) = \\sum_{j=1}^\\infty \\sum_{n=0}^{2\\pi}\\sum_{m=-n}^n \\frac{2}{a^3 j_{n+1}^2(\\alpha_{n+\\frac{1}{2},j})}j_n^2(\\mu_{n,j}r)Y_{nm}^2(\\phi,\\theta)\\end{align*}$ 이다."
      ]
    }
  ]
}