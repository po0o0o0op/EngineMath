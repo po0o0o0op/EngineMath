{
  "nbformat": 4,
  "nbformat_minor": 0,
  "metadata": {
    "colab": {
      "name": "Untitled1.ipynb",
      "provenance": [],
      "collapsed_sections": [],
      "authorship_tag": "ABX9TyMC8uLhAgTTNEJkOb7GfXdI",
      "include_colab_link": true
    },
    "kernelspec": {
      "name": "python3",
      "display_name": "Python 3"
    }
  },
  "cells": [
    {
      "cell_type": "markdown",
      "metadata": {
        "id": "view-in-github",
        "colab_type": "text"
      },
      "source": [
        "<a href=\"https://colab.research.google.com/github/po0o0o0op/EngineMath/blob/master/Untitled1.ipynb\" target=\"_parent\"><img src=\"https://colab.research.google.com/assets/colab-badge.svg\" alt=\"Open In Colab\"/></a>"
      ]
    },
    {
      "cell_type": "code",
      "metadata": {
        "id": "fbfCpHHep70q",
        "colab_type": "code",
        "colab": {}
      },
      "source": [
        "import numpy as np\n",
        "\n",
        "def doolittle(A): \n",
        "    L = np.matrix([[0,0,0],[0,0,0],[0,0,0]])\n",
        "    U = np.matrix([[0,0,0],[0,0,0],[0,0,0]])\n",
        "    n = len(A)    \n",
        "    \n",
        "    for z in range(n):\n",
        "        L[z, z] = 1\n",
        "        U[z, z] = (A[z, z] - np.dot(L[z, :z], U[:z, z]))\n",
        "    \n",
        "    for i in range(z+1, n):\n",
        "        U[z, i] = (A[z, i] - np.dot(L[z, :z], U[:z, i]))\n",
        "    \n",
        "    for k in range(z+1, n):\n",
        "        L[k, z] = (A[k, z] - np.dot(L[k, :z], U[:z, z])) / U[z, z]\n",
        "       \n",
        "    return (L, U)\n",
        "\n",
        "A = np.matrix([[1.0, 1.0, 1.0], [3.0, 1.0, 2.0], [1.0, -1.0, 1.0]])"
      ],
      "execution_count": null,
      "outputs": []
    },
    {
      "cell_type": "code",
      "metadata": {
        "id": "5aFt534Cp7Vm",
        "colab_type": "code",
        "colab": {}
      },
      "source": [
        ""
      ],
      "execution_count": null,
      "outputs": []
    }
  ]
}